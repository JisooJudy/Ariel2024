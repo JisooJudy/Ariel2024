{
 "cells": [
  {
   "cell_type": "markdown",
   "metadata": {},
   "source": [
    "# Setting"
   ]
  },
  {
   "cell_type": "code",
   "execution_count": null,
   "metadata": {
    "vscode": {
     "languageId": "plaintext"
    }
   },
   "outputs": [],
   "source": [
    "import numpy as np\n",
    "import random \n",
    "import os\n",
    "import sys\n",
    "import pandas as pd\n",
    "from tqdm import tqdm\n",
    "\n",
    "import pickle\n",
    "import matplotlib.pyplot as plt\n",
    "from matplotlib.ticker import ScalarFormatter"
   ]
  },
  {
   "cell_type": "code",
   "execution_count": null,
   "metadata": {
    "vscode": {
     "languageId": "plaintext"
    }
   },
   "outputs": [],
   "source": [
    "import tensorflow as tf \n",
    "\n",
    "from tensorflow.keras.models import load_model\n",
    "from tensorflow.keras.losses import MeanAbsoluteError\n",
    "from tensorflow.keras.callbacks import LearningRateScheduler, ModelCheckpoint\n",
    "from keras.layers import Input, Conv1D, Conv2D, MaxPooling1D, MaxPooling2D, Flatten, Dense, Dropout, BatchNormalization, Concatenate,AveragePooling1D\n",
    "from keras.models import Model, load_model\n",
    "\n",
    "from keras.optimizers import Adam, RMSprop"
   ]
  },
  {
   "cell_type": "markdown",
   "metadata": {},
   "source": [
    "## From here:"
   ]
  },
  {
   "cell_type": "code",
   "execution_count": null,
   "metadata": {
    "vscode": {
     "languageId": "plaintext"
    }
   },
   "outputs": [],
   "source": [
    "TUNING_MODE = 'OFF' # ON/OFF\n",
    "LOSS_FUNCTION = 'mse'\n",
    "\n",
    "do_the_mcdropout_wc = True\n",
    "do_the_mcdropout = True\n",
    "\n",
    "METRIC = 'MAE'  # MAE/MSE\n",
    "\n",
    "OPTIMIZER = 'adam' # adam, rmsprop\n",
    "LR = 0.001   #adam과 rmsprop의 defaut값\n",
    "BATCH_SIZE = 16\n",
    "EPOCHS = 600\n",
    "\n",
    "#-------아직 구현 안 된 부분-------\n",
    "\n",
    "DECAY_RATE=0.2\n",
    "DECAY_STEP=200"
   ]
  },
  {
   "cell_type": "markdown",
   "metadata": {},
   "source": [
    "# Import Data"
   ]
  },
  {
   "cell_type": "code",
   "execution_count": null,
   "metadata": {
    "vscode": {
     "languageId": "plaintext"
    }
   },
   "outputs": [],
   "source": [
    "model_path = ''\n",
    "data_path = ''"
   ]
  },
  {
   "cell_type": "code",
   "execution_count": null,
   "metadata": {
    "vscode": {
     "languageId": "plaintext"
    }
   },
   "outputs": [],
   "source": [
    "data_train = np.load(data_path + 'data_train.npy')\n",
    "data_train_FGS = np.load(data_path + 'data_train_FGS.npy')\n",
    "\n",
    "data_test = np.load(data_path + 'data_test.npy')\n",
    "data_test_FGS = np.load(data_path + 'data_test_FGS.npy')\n",
    "\n",
    "data_train.shape, data_train_FGS.shape, data_test.shape, data_test_FGS.shape"
   ]
  },
  {
   "cell_type": "markdown",
   "metadata": {},
   "source": [
    "# Preprocessing"
   ]
  },
  {
   "cell_type": "code",
   "execution_count": null,
   "metadata": {
    "vscode": {
     "languageId": "plaintext"
    }
   },
   "outputs": [],
   "source": []
  },
  {
   "cell_type": "markdown",
   "metadata": {},
   "source": [
    "# Model train"
   ]
  },
  {
   "cell_type": "markdown",
   "metadata": {},
   "source": [
    "### Define"
   ]
  },
  {
   "cell_type": "code",
   "execution_count": null,
   "metadata": {
    "vscode": {
     "languageId": "plaintext"
    }
   },
   "outputs": [],
   "source": [
    "input_obs = Input((40,283,1))\n",
    "x = Conv2D(32, (3, 1), activation='relu', padding='same')(input_obs)\n",
    "x = MaxPooling2D((2, 1))(x)\n",
    "x = BatchNormalization() (x)\n",
    "x = Conv2D(64, (3, 1), activation='relu', padding='same')(x)\n",
    "x = MaxPooling2D((2, 1))(x)\n",
    "x = Conv2D(128, (3, 1), activation='relu', padding='same')(x)\n",
    "x = MaxPooling2D((2, 1))(x)\n",
    "x = Conv2D(256, (3, 1), activation='relu', padding='same')(x)\n",
    "x = Conv2D(32, (1, 3), activation='relu', padding='same')(x)\n",
    "x = MaxPooling2D((1, 2))(x)\n",
    "x = BatchNormalization() (x)\n",
    "x = Conv2D(64, (1, 3), activation='relu', padding='same')(x)\n",
    "x = MaxPooling2D((1, 2))(x)\n",
    "x = Conv2D(128, (1, 3), activation='relu', padding='same')(x)\n",
    "x = MaxPooling2D((1, 2))(x)\n",
    "x = Conv2D(256, (1, 3), activation='relu', padding='same')(x)\n",
    "x = MaxPooling2D((1, 2))(x)\n",
    "x = Flatten()(x)\n",
    "# DNN\n",
    "x = Dense(700, activation='relu')(x)\n",
    "x = Dropout(0.2)(x, training = True)\n",
    "output = Dense(283, activation='linear')(x)\n"
   ]
  },
  {
   "cell_type": "markdown",
   "metadata": {},
   "source": [
    "### Split dataset"
   ]
  },
  {
   "cell_type": "code",
   "execution_count": null,
   "metadata": {
    "vscode": {
     "languageId": "plaintext"
    }
   },
   "outputs": [],
   "source": []
  },
  {
   "cell_type": "markdown",
   "metadata": {},
   "source": [
    "### Train Model"
   ]
  },
  {
   "cell_type": "code",
   "execution_count": null,
   "metadata": {
    "vscode": {
     "languageId": "plaintext"
    }
   },
   "outputs": [],
   "source": []
  },
  {
   "cell_type": "markdown",
   "metadata": {},
   "source": [
    "### Model Eval"
   ]
  },
  {
   "cell_type": "markdown",
   "metadata": {},
   "source": [
    "#### Learning curve"
   ]
  },
  {
   "cell_type": "code",
   "execution_count": null,
   "metadata": {
    "vscode": {
     "languageId": "plaintext"
    }
   },
   "outputs": [],
   "source": []
  },
  {
   "cell_type": "markdown",
   "metadata": {},
   "source": [
    "#### MSE"
   ]
  },
  {
   "cell_type": "code",
   "execution_count": null,
   "metadata": {
    "vscode": {
     "languageId": "plaintext"
    }
   },
   "outputs": [],
   "source": []
  },
  {
   "cell_type": "markdown",
   "metadata": {},
   "source": [
    "# Load Model, Testset"
   ]
  },
  {
   "cell_type": "markdown",
   "metadata": {},
   "source": [
    "완성한 모델, testset 저장해두기. *이후 `model_concat`에서 부를 예정*"
   ]
  },
  {
   "cell_type": "code",
   "execution_count": null,
   "metadata": {
    "vscode": {
     "languageId": "plaintext"
    }
   },
   "outputs": [],
   "source": []
  }
 ],
 "metadata": {
  "language_info": {
   "name": "python"
  }
 },
 "nbformat": 4,
 "nbformat_minor": 2
}
