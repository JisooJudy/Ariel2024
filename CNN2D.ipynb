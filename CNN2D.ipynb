{
 "cells": [
  {
   "cell_type": "markdown",
   "metadata": {},
   "source": [
    "# Setting"
   ]
  },
  {
   "cell_type": "code",
   "execution_count": 164,
   "metadata": {},
   "outputs": [],
   "source": [
    "import numpy as np\n",
    "import random \n",
    "import os\n",
    "import sys\n",
    "import pandas as pd\n",
    "from tqdm import tqdm\n",
    "\n",
    "import pickle\n",
    "import matplotlib.pyplot as plt\n",
    "from matplotlib.ticker import ScalarFormatter"
   ]
  },
  {
   "cell_type": "code",
   "execution_count": 165,
   "metadata": {},
   "outputs": [],
   "source": [
    "import tensorflow as tf \n",
    "\n",
    "from tensorflow.keras.models import load_model\n",
    "from tensorflow.keras.losses import MeanAbsoluteError\n",
    "from tensorflow.keras.callbacks import LearningRateScheduler, ModelCheckpoint\n",
    "from keras.layers import Input, Conv1D, Conv2D, MaxPooling1D, MaxPooling2D, Flatten, Dense, Dropout, BatchNormalization, Concatenate,AveragePooling1D\n",
    "from keras.models import Model, load_model\n",
    "from keras.callbacks import EarlyStopping\n",
    "\n",
    "from keras.optimizers import Adam, RMSprop"
   ]
  },
  {
   "cell_type": "markdown",
   "metadata": {},
   "source": [
    "## From here:"
   ]
  },
  {
   "cell_type": "code",
   "execution_count": 166,
   "metadata": {},
   "outputs": [],
   "source": [
    "TUNING_MODE = 'OFF' # ON/OFF\n",
    "LOSS_FUNCTION = 'mse'\n",
    "\n",
    "do_the_mcdropout_wc = True\n",
    "do_the_mcdropout = True\n",
    "\n",
    "METRIC = 'MAE'  # MAE/MSE\n",
    "\n",
    "OPTIMIZER = 'adam' # adam, rmsprop\n",
    "LR = 0.001   #adam과 rmsprop의 defaut값\n",
    "BATCH_SIZE = 64\n",
    "EPOCHS = 600\n",
    "\n",
    "PATIENCE = 30 # Early-stopping-round\n",
    "#-------아직 구현 안 된 부분-------\n",
    "\n",
    "DECAY_RATE=0.2\n",
    "DECAY_STEP=200"
   ]
  },
  {
   "cell_type": "markdown",
   "metadata": {},
   "source": [
    "# Import Data"
   ]
  },
  {
   "cell_type": "code",
   "execution_count": 167,
   "metadata": {},
   "outputs": [],
   "source": [
    "data_path = './data/'\n",
    "output_path = './output/'"
   ]
  },
  {
   "cell_type": "code",
   "execution_count": 168,
   "metadata": {},
   "outputs": [
    {
     "data": {
      "text/plain": [
       "((673, 187, 282, 32),\n",
       " (673, 187, 32, 32),\n",
       " (1, 187, 282, 32),\n",
       " (1, 187, 32, 32),\n",
       " (673, 284))"
      ]
     },
     "execution_count": 168,
     "metadata": {},
     "output_type": "execute_result"
    }
   ],
   "source": [
    "data_train = np.load(data_path + 'data_train.npy')\n",
    "data_train_FGS = np.load(data_path + 'data_train_FGS.npy')\n",
    "\n",
    "data_test = np.load(data_path + 'data_test.npy')\n",
    "data_test_FGS = np.load(data_path + 'data_test_FGS.npy')\n",
    "\n",
    "train_solution = np.loadtxt(data_path + 'train_labels.csv', delimiter=',', skiprows=1)\n",
    "\n",
    "data_train.shape, data_train_FGS.shape, data_test.shape, data_test_FGS.shape, train_solution.shape"
   ]
  },
  {
   "cell_type": "markdown",
   "metadata": {},
   "source": [
    "# Preprocessing"
   ]
  },
  {
   "cell_type": "markdown",
   "metadata": {},
   "source": [
    "순서 \n",
    "1. `train_solution` 처리하기\n",
    "2. `data_train_FGS`, `data_test_FGS`를 y축 방향으로 sum 하기\n",
    "3. AIRS 데이터와 FGS data concat하여 `dataset_train`, `dataset_test` 만들기\n",
    "4. concat한 거 z축에 대해 sum\n",
    "5. `dataset_train`, `dataset_test`를 Star Flux기준으로 normalize하기\n",
    "6. Transpose\n",
    "7. Trainset을 Train, Validset으로 쪼개기\n",
    "8. Transpose - Time축 align을 위해 \n",
    "9. In-Transit data 추출\n",
    "10. Mean Flux 빼기\n",
    "11. 데이터를 [0, 1] 범위로 Normalize\n",
    "12. Reshape for CNN\n",
    "13. Prepare Target"
   ]
  },
  {
   "cell_type": "markdown",
   "metadata": {},
   "source": [
    "### 1. `train_solution`처리"
   ]
  },
  {
   "cell_type": "code",
   "execution_count": 169,
   "metadata": {},
   "outputs": [],
   "source": [
    "targets = train_solution[:,1:] # planet_id 제거\n",
    "targets_mean = targets[:, 1:].mean(axis=1) # targets의 sum값 도출\n",
    "N = len(targets) #데이터셋 수"
   ]
  },
  {
   "cell_type": "markdown",
   "metadata": {},
   "source": [
    "### 2. `data_train_FGS`, `data_test_FGS`를 y축 방향으로 sum"
   ]
  },
  {
   "cell_type": "code",
   "execution_count": 170,
   "metadata": {},
   "outputs": [
    {
     "data": {
      "text/plain": [
       "((673, 187, 32), (1, 187, 32))"
      ]
     },
     "execution_count": 170,
     "metadata": {},
     "output_type": "execute_result"
    }
   ],
   "source": [
    "train_FGS_column = data_train_FGS.sum(axis=2)\n",
    "test_FGS_column = data_test_FGS.sum(axis=2)\n",
    "\n",
    "train_FGS_column.shape, test_FGS_column.shape"
   ]
  },
  {
   "cell_type": "markdown",
   "metadata": {},
   "source": [
    "### 3. AIRS 데이터와 FGS 데이터 concat해서 dataset_train, dataset_test 만들기"
   ]
  },
  {
   "cell_type": "code",
   "execution_count": 171,
   "metadata": {},
   "outputs": [],
   "source": [
    "dataset_train = np.concatenate([data_train, train_FGS_column[:,:,np.newaxis, :]], axis=2)\n",
    "dataset_test = np.concatenate([data_test, test_FGS_column[:,:,np.newaxis, :]], axis=2)"
   ]
  },
  {
   "cell_type": "code",
   "execution_count": 172,
   "metadata": {},
   "outputs": [
    {
     "data": {
      "text/plain": [
       "((673, 187, 283, 32), (1, 187, 283, 32))"
      ]
     },
     "execution_count": 172,
     "metadata": {},
     "output_type": "execute_result"
    }
   ],
   "source": [
    "dataset_train.shape, dataset_test.shape"
   ]
  },
  {
   "cell_type": "markdown",
   "metadata": {},
   "source": [
    "### 4. concat한 거 z축에 대해 sum"
   ]
  },
  {
   "cell_type": "code",
   "execution_count": 173,
   "metadata": {},
   "outputs": [],
   "source": [
    "dataset_train = dataset_train.sum(axis=3)\n",
    "dataset_test = dataset_test.sum(axis=3)"
   ]
  },
  {
   "cell_type": "code",
   "execution_count": 174,
   "metadata": {},
   "outputs": [
    {
     "data": {
      "text/plain": [
       "((673, 187, 283), (1, 187, 283))"
      ]
     },
     "execution_count": 174,
     "metadata": {},
     "output_type": "execute_result"
    }
   ],
   "source": [
    "dataset_train.shape, dataset_test.shape"
   ]
  },
  {
   "cell_type": "markdown",
   "metadata": {},
   "source": [
    "### 5. Star Flux로 normalize"
   ]
  },
  {
   "cell_type": "code",
   "execution_count": 175,
   "metadata": {},
   "outputs": [],
   "source": [
    "def norm_star_spectrum(signal):\n",
    "    img_star = signal[:,:50].mean(axis=1) + signal[:,-50:].mean(axis=1)\n",
    "    return signal/img_star[:,np.newaxis, :]\n",
    "\n",
    "dataset_train_norm = norm_star_spectrum(dataset_train)\n",
    "dataset_test_norm = norm_star_spectrum(dataset_test)"
   ]
  },
  {
   "cell_type": "code",
   "execution_count": 176,
   "metadata": {},
   "outputs": [
    {
     "data": {
      "text/plain": [
       "((673, 187, 283), (1, 187, 283))"
      ]
     },
     "execution_count": 176,
     "metadata": {},
     "output_type": "execute_result"
    }
   ],
   "source": [
    "dataset_train_norm.shape, dataset_test_norm.shape"
   ]
  },
  {
   "cell_type": "markdown",
   "metadata": {},
   "source": [
    " 나중에 EDA 하면서 이 부분 분포 한 번 확인해보는게 좋을 듯"
   ]
  },
  {
   "cell_type": "code",
   "execution_count": 177,
   "metadata": {},
   "outputs": [
    {
     "data": {
      "text/plain": [
       "(0.523922187938402,\n",
       " 0.47892563373920166,\n",
       " 0.5080812205990374,\n",
       " 0.49110629280505286)"
      ]
     },
     "execution_count": 177,
     "metadata": {},
     "output_type": "execute_result"
    }
   ],
   "source": [
    "dataset_train_norm.max(), dataset_train_norm.min(), dataset_test_norm.max(), dataset_test_norm.min()"
   ]
  },
  {
   "cell_type": "markdown",
   "metadata": {},
   "source": [
    "### 6. Transpose"
   ]
  },
  {
   "cell_type": "markdown",
   "metadata": {},
   "source": [
    "(데이터수, 파장, time축) 순으로 정렬"
   ]
  },
  {
   "cell_type": "code",
   "execution_count": 178,
   "metadata": {},
   "outputs": [
    {
     "data": {
      "text/plain": [
       "((673, 283, 187), (1, 283, 187))"
      ]
     },
     "execution_count": 178,
     "metadata": {},
     "output_type": "execute_result"
    }
   ],
   "source": [
    "dataset_train_norm = np.transpose(dataset_train_norm, (0,2,1))\n",
    "dataset_test_norm = np.transpose(dataset_test_norm, (0,2,1))\n",
    "dataset_train_norm.shape, dataset_test_norm.shape"
   ]
  },
  {
   "cell_type": "markdown",
   "metadata": {},
   "source": [
    "### 7. Trainset, Validset으로 쪼개기"
   ]
  },
  {
   "cell_type": "code",
   "execution_count": 179,
   "metadata": {},
   "outputs": [
    {
     "data": {
      "text/plain": [
       "((538, 283, 187), (135, 283, 187), 538, 135, (538, 283), (135, 283))"
      ]
     },
     "execution_count": 179,
     "metadata": {},
     "output_type": "execute_result"
    }
   ],
   "source": [
    "def split(data, N_train_rate):\n",
    "    total_size = len(data)\n",
    "    N_train = int(N_train_rate * len(data))\n",
    "    indices = np.arange(total_size)\n",
    "    np.random.shuffle(indices)\n",
    "    train_indices = indices[:N_train]\n",
    "    valid_indices = indices[N_train:]\n",
    "    data_train = data[train_indices]\n",
    "    data_valid = data[valid_indices]\n",
    "    return data_train, data_valid, train_indices, valid_indices\n",
    "\n",
    "train_obs, valid_obs, train_indices, valid_indices = split(dataset_train_norm, 0.8)   # 8:2 비율로 split\n",
    "\n",
    "train_targets = targets[train_indices]\n",
    "valid_targets = targets[valid_indices]\n",
    "\n",
    "train_obs.shape, valid_obs.shape, len(train_indices), len(valid_indices), train_targets.shape, valid_targets.shape"
   ]
  },
  {
   "cell_type": "markdown",
   "metadata": {},
   "source": [
    "### 8. Transpose - Time축 align을 위해 transpose"
   ]
  },
  {
   "cell_type": "code",
   "execution_count": 180,
   "metadata": {},
   "outputs": [
    {
     "data": {
      "text/plain": [
       "((538, 187, 283), (135, 187, 283), (1, 187, 283))"
      ]
     },
     "execution_count": 180,
     "metadata": {},
     "output_type": "execute_result"
    }
   ],
   "source": [
    "train_obs = train_obs.transpose(0, 2, 1)\n",
    "valid_obs = valid_obs.transpose(0, 2, 1)\n",
    "test_obs = dataset_test_norm.transpose(0, 2, 1)\n",
    "\n",
    "train_obs.shape, valid_obs.shape, test_obs.shape"
   ]
  },
  {
   "cell_type": "markdown",
   "metadata": {},
   "source": [
    "형태: (데이터 수, time, 파장)"
   ]
  },
  {
   "cell_type": "markdown",
   "metadata": {},
   "source": [
    "### 9. In-Transit data 추출"
   ]
  },
  {
   "cell_type": "markdown",
   "metadata": {},
   "source": [
    "In-Transit observation이란: 천문에서 행성이 이동하는 모습을 관측하는 걸 뜻함."
   ]
  },
  {
   "cell_type": "code",
   "execution_count": 181,
   "metadata": {},
   "outputs": [
    {
     "data": {
      "text/plain": [
       "((538, 40, 283), (135, 40, 283), (1, 40, 283))"
      ]
     },
     "execution_count": 181,
     "metadata": {},
     "output_type": "execute_result"
    }
   ],
   "source": [
    "def suppress_out_transit(data, ingress, egress):\n",
    "    return data[:, ingress:egress, :]\n",
    "\n",
    "ingress = 75\n",
    "egress = 115\n",
    "\n",
    "train_obs_in = suppress_out_transit(train_obs, ingress, egress)\n",
    "valid_obs_in = suppress_out_transit(valid_obs, ingress, egress)\n",
    "test_obs_in = suppress_out_transit(test_obs, ingress, egress)\n",
    "\n",
    "train_obs_in.shape, valid_obs_in.shape, test_obs_in.shape"
   ]
  },
  {
   "cell_type": "markdown",
   "metadata": {},
   "source": [
    "### 10. Flux의 mean값 추출"
   ]
  },
  {
   "cell_type": "code",
   "execution_count": 182,
   "metadata": {},
   "outputs": [
    {
     "data": {
      "text/plain": [
       "((538, 40, 283), (135, 40, 283), (1, 40, 283))"
      ]
     },
     "execution_count": 182,
     "metadata": {},
     "output_type": "execute_result"
    }
   ],
   "source": [
    "def substract_data_mean(data):\n",
    "    data_mean = np.zeros(data.shape)\n",
    "    for i in range(data.shape[0]):\n",
    "        data_mean[i] = data[i] - data[i].mean()\n",
    "    return data_mean\n",
    "train_obs_mean_substracted = substract_data_mean(train_obs_in)\n",
    "valid_obs_mean_substracted = substract_data_mean(valid_obs_in)\n",
    "test_obs_mean_substracted = substract_data_mean(test_obs_in)\n",
    "\n",
    "train_obs_mean_substracted.shape, valid_obs_mean_substracted.shape, test_obs_mean_substracted.shape"
   ]
  },
  {
   "cell_type": "markdown",
   "metadata": {},
   "source": [
    "### 11. Normalize data btw [0, 1]"
   ]
  },
  {
   "cell_type": "markdown",
   "metadata": {},
   "source": [
    "mean값을 normalize"
   ]
  },
  {
   "cell_type": "code",
   "execution_count": 183,
   "metadata": {},
   "outputs": [
    {
     "data": {
      "text/plain": [
       "((538, 40, 283), (135, 40, 283), (1, 40, 283), 0.018263497290595287)"
      ]
     },
     "execution_count": 183,
     "metadata": {},
     "output_type": "execute_result"
    }
   ],
   "source": [
    "def data_normalize(train_data, valid_data, test_data):\n",
    "    max_abs_value = max( np.abs(train_data).max(), np.abs(valid_data).max()) #trainset 전체에서 array값 중 최댓값 찾음.\n",
    "    train_data_norm = train_data / max_abs_value\n",
    "    valid_data_norm = valid_data / max_abs_value\n",
    "    test_data_norm = test_data / max_abs_value\n",
    "    return train_data_norm, valid_data_norm, test_data_norm, max_abs_value\n",
    "\n",
    "train_obs_norm, valid_obs_norm, test_obs_norm, data_abs_max = data_normalize(train_obs_mean_substracted, \n",
    "                                                                            valid_obs_mean_substracted,\n",
    "                                                                            test_obs_mean_substracted)\n",
    "\n",
    "train_obs_norm.shape, valid_obs_norm.shape, test_obs_norm.shape, data_abs_max"
   ]
  },
  {
   "cell_type": "code",
   "execution_count": 184,
   "metadata": {},
   "outputs": [
    {
     "name": "stdout",
     "output_type": "stream",
     "text": [
      "max: 0.986144701480468, min: -1.0\n",
      "max: 0.9061498237972687, min: -0.869643688699163\n",
      "max: 0.3757097550611997, min: -0.4135140726124283\n"
     ]
    }
   ],
   "source": [
    "li = [train_obs_norm, valid_obs_norm, test_obs_norm]\n",
    "for df in li:\n",
    "    print(f\"max: {df.max()}, min: {df.min()}\")"
   ]
  },
  {
   "cell_type": "markdown",
   "metadata": {},
   "source": [
    "### 12. Reshape Data for CNN"
   ]
  },
  {
   "cell_type": "code",
   "execution_count": 185,
   "metadata": {},
   "outputs": [
    {
     "data": {
      "text/plain": [
       "((538, 40, 283, 1), (135, 40, 283, 1), (1, 40, 283, 1))"
      ]
     },
     "execution_count": 185,
     "metadata": {},
     "output_type": "execute_result"
    }
   ],
   "source": [
    "train_obs_norm = train_obs_norm[..., np.newaxis]\n",
    "valid_obs_norm = valid_obs_norm[..., np.newaxis]\n",
    "test_obs_norm = test_obs_norm[..., np.newaxis]\n",
    "\n",
    "train_obs_norm.shape, valid_obs_norm.shape, test_obs_norm.shape"
   ]
  },
  {
   "cell_type": "markdown",
   "metadata": {},
   "source": [
    "### 13. Prepare `target`, `target_mean`"
   ]
  },
  {
   "cell_type": "markdown",
   "metadata": {},
   "source": [
    "** 이거 logscale로 predict하는게 더 좋을 것 같음. 한 번 고려해볼 것."
   ]
  },
  {
   "cell_type": "markdown",
   "metadata": {},
   "source": [
    "#### transmit depth 계산"
   ]
  },
  {
   "cell_type": "code",
   "execution_count": 186,
   "metadata": {},
   "outputs": [],
   "source": [
    "train_targets_mean = targets_mean[train_indices]\n",
    "valid_targets_mean = targets_mean[valid_indices]"
   ]
  },
  {
   "cell_type": "code",
   "execution_count": 187,
   "metadata": {},
   "outputs": [
    {
     "data": {
      "text/plain": [
       "((538, 283), (135, 283))"
      ]
     },
     "execution_count": 187,
     "metadata": {},
     "output_type": "execute_result"
    }
   ],
   "source": [
    "def suppress_mean(targets, mean):\n",
    "    return targets - mean[:, np.newaxis]\n",
    "\n",
    "train_targets_shift = suppress_mean(train_targets, train_targets_mean)\n",
    "valid_targets_shift = suppress_mean(valid_targets, valid_targets_mean)\n",
    "train_targets_shift.shape, valid_targets_shift.shape"
   ]
  },
  {
   "cell_type": "code",
   "execution_count": 188,
   "metadata": {},
   "outputs": [
    {
     "data": {
      "text/plain": [
       "(0.0030516885275461087,\n",
       " -0.0014803250975050915,\n",
       " 0.0011953957057951425,\n",
       " -0.0007132791981548578)"
      ]
     },
     "execution_count": 188,
     "metadata": {},
     "output_type": "execute_result"
    }
   ],
   "source": [
    "train_targets_shift.max(), train_targets_shift.min(), valid_targets_shift.max(), valid_targets_shift.min()"
   ]
  },
  {
   "cell_type": "markdown",
   "metadata": {},
   "source": [
    "#### Normalize"
   ]
  },
  {
   "cell_type": "code",
   "execution_count": 189,
   "metadata": {},
   "outputs": [],
   "source": [
    "def target_normalize(train_targets, valid_targets):\n",
    "    max_abs_value = max(np.abs(train_targets).max(), np.abs(valid_targets).max())\n",
    "    train_targets_norm = train_targets / max_abs_value\n",
    "    valid_targets_norm = valid_targets / max_abs_value\n",
    "    return train_targets_norm, valid_targets_norm, max_abs_value\n",
    "\n",
    "train_targets_norm, valid_targets_norm, target_abs_max = target_normalize(train_targets_shift, valid_targets_shift)"
   ]
  },
  {
   "cell_type": "code",
   "execution_count": 190,
   "metadata": {},
   "outputs": [
    {
     "data": {
      "text/plain": [
       "((538, 283), (135, 283))"
      ]
     },
     "execution_count": 190,
     "metadata": {},
     "output_type": "execute_result"
    }
   ],
   "source": [
    "train_targets_norm.shape, valid_targets_norm.shape"
   ]
  },
  {
   "cell_type": "markdown",
   "metadata": {},
   "source": [
    "# Model train"
   ]
  },
  {
   "cell_type": "markdown",
   "metadata": {},
   "source": [
    "### Define"
   ]
  },
  {
   "cell_type": "code",
   "execution_count": 191,
   "metadata": {},
   "outputs": [],
   "source": [
    "input_obs = Input((40,283,1))\n",
    "x = Conv2D(32, (3, 1), activation='relu', padding='same')(input_obs)\n",
    "x = MaxPooling2D((2, 1))(x)\n",
    "x = BatchNormalization() (x)\n",
    "x = Conv2D(64, (3, 1), activation='relu', padding='same')(x)\n",
    "x = MaxPooling2D((2, 1))(x)\n",
    "x = Conv2D(128, (3, 1), activation='relu', padding='same')(x)\n",
    "x = MaxPooling2D((2, 1))(x)\n",
    "x = Conv2D(256, (3, 1), activation='relu', padding='same')(x)\n",
    "x = Conv2D(32, (1, 3), activation='relu', padding='same')(x)\n",
    "x = MaxPooling2D((1, 2))(x)\n",
    "x = BatchNormalization() (x)\n",
    "x = Conv2D(64, (1, 3), activation='relu', padding='same')(x)\n",
    "x = MaxPooling2D((1, 2))(x)\n",
    "x = Conv2D(128, (1, 3), activation='relu', padding='same')(x)\n",
    "x = MaxPooling2D((1, 2))(x)\n",
    "x = Conv2D(256, (1, 3), activation='relu', padding='same')(x)\n",
    "x = MaxPooling2D((1, 2))(x)\n",
    "x = Flatten()(x)\n",
    "# DNN\n",
    "x = Dense(700, activation='relu')(x)\n",
    "x = Dropout(0.2)(x, training = True)\n",
    "output = Dense(283, activation='linear')(x)\n"
   ]
  },
  {
   "cell_type": "code",
   "execution_count": 192,
   "metadata": {},
   "outputs": [
    {
     "name": "stdout",
     "output_type": "stream",
     "text": [
      "Model: \"model_3\"\n",
      "_________________________________________________________________\n",
      " Layer (type)                Output Shape              Param #   \n",
      "=================================================================\n",
      " input_3 (InputLayer)        [(None, 40, 283, 1)]      0         \n",
      "                                                                 \n",
      " conv2d_16 (Conv2D)          (None, 40, 283, 32)       128       \n",
      "                                                                 \n",
      " max_pooling2d_14 (MaxPoolin  (None, 20, 283, 32)      0         \n",
      " g2D)                                                            \n",
      "                                                                 \n",
      " batch_normalization_4 (Batc  (None, 20, 283, 32)      128       \n",
      " hNormalization)                                                 \n",
      "                                                                 \n",
      " conv2d_17 (Conv2D)          (None, 20, 283, 64)       6208      \n",
      "                                                                 \n",
      " max_pooling2d_15 (MaxPoolin  (None, 10, 283, 64)      0         \n",
      " g2D)                                                            \n",
      "                                                                 \n",
      " conv2d_18 (Conv2D)          (None, 10, 283, 128)      24704     \n",
      "                                                                 \n",
      " max_pooling2d_16 (MaxPoolin  (None, 5, 283, 128)      0         \n",
      " g2D)                                                            \n",
      "                                                                 \n",
      " conv2d_19 (Conv2D)          (None, 5, 283, 256)       98560     \n",
      "                                                                 \n",
      " conv2d_20 (Conv2D)          (None, 5, 283, 32)        24608     \n",
      "                                                                 \n",
      " max_pooling2d_17 (MaxPoolin  (None, 5, 141, 32)       0         \n",
      " g2D)                                                            \n",
      "                                                                 \n",
      " batch_normalization_5 (Batc  (None, 5, 141, 32)       128       \n",
      " hNormalization)                                                 \n",
      "                                                                 \n",
      " conv2d_21 (Conv2D)          (None, 5, 141, 64)        6208      \n",
      "                                                                 \n",
      " max_pooling2d_18 (MaxPoolin  (None, 5, 70, 64)        0         \n",
      " g2D)                                                            \n",
      "                                                                 \n",
      " conv2d_22 (Conv2D)          (None, 5, 70, 128)        24704     \n",
      "                                                                 \n",
      " max_pooling2d_19 (MaxPoolin  (None, 5, 35, 128)       0         \n",
      " g2D)                                                            \n",
      "                                                                 \n",
      " conv2d_23 (Conv2D)          (None, 5, 35, 256)        98560     \n",
      "                                                                 \n",
      " max_pooling2d_20 (MaxPoolin  (None, 5, 17, 256)       0         \n",
      " g2D)                                                            \n",
      "                                                                 \n",
      " flatten_2 (Flatten)         (None, 21760)             0         \n",
      "                                                                 \n",
      " dense_4 (Dense)             (None, 700)               15232700  \n",
      "                                                                 \n",
      " dropout_2 (Dropout)         (None, 700)               0         \n",
      "                                                                 \n",
      " dense_5 (Dense)             (None, 283)               198383    \n",
      "                                                                 \n",
      "=================================================================\n",
      "Total params: 15,715,019\n",
      "Trainable params: 15,714,891\n",
      "Non-trainable params: 128\n",
      "_________________________________________________________________\n"
     ]
    }
   ],
   "source": [
    "model = Model(inputs=[input_obs], outputs=output)\n",
    "checkpoint_filepath = 'output/model_2dcnn.keras'\n",
    "model_ckt = ModelCheckpoint(\n",
    "    checkpoint_filepath,\n",
    "    monitor=\"val_loss\",\n",
    "    verbose=0,\n",
    "    save_best_only=True,\n",
    "    save_weights_only=False,\n",
    "    mode=\"min\",\n",
    "    save_freq=\"epoch\",\n",
    ")\n",
    "\n",
    "if OPTIMIZER =='sgd':\n",
    "    optimizer = SGD(LR)\n",
    "elif OPTIMIZER == 'rmsprop':\n",
    "    optimizer = RMSprop(LR)\n",
    "elif OPTIMIZER == 'adam':\n",
    "    optimizer = Adam(LR)\n",
    "\n",
    "if METRIC == 'MAE':\n",
    "    metrics = MeanAbsoluteError()\n",
    "elif METRIC == 'MSE':\n",
    "    metrics = MeanSqurareError()\n",
    "    \n",
    "model.compile(optimizer=optimizer, loss=LOSS_FUNCTION, metrics=[metrics])\n",
    "model.summary()"
   ]
  },
  {
   "cell_type": "code",
   "execution_count": 193,
   "metadata": {},
   "outputs": [],
   "source": [
    "early_stopping = EarlyStopping(\n",
    "    monitor='val_loss',\n",
    "    patience=PATIENCE,\n",
    "    restore_best_weights=True\n",
    ")"
   ]
  },
  {
   "cell_type": "markdown",
   "metadata": {},
   "source": [
    "### Train Model"
   ]
  },
  {
   "cell_type": "code",
   "execution_count": 194,
   "metadata": {},
   "outputs": [],
   "source": [
    "history = model.fit(\n",
    "     x = train_obs_norm,  \n",
    "     y = train_targets_norm,\n",
    "     validation_data = (valid_obs_norm, valid_targets_norm),  \n",
    "     batch_size=BATCH_SIZE,\n",
    "     epochs= EPOCHS,\n",
    "     shuffle=True,\n",
    "     verbose=0,\n",
    "    callbacks=[model_ckt, early_stopping]\n",
    " )"
   ]
  },
  {
   "cell_type": "markdown",
   "metadata": {},
   "source": [
    "### Model Eval"
   ]
  },
  {
   "cell_type": "markdown",
   "metadata": {},
   "source": [
    "#### Learning curve"
   ]
  },
  {
   "cell_type": "code",
   "execution_count": 195,
   "metadata": {},
   "outputs": [
    {
     "data": {
      "image/png": "[encoded data removed]",
      "text/plain": [
       "<Figure size 640x480 with 1 Axes>"
      ]
     },
     "metadata": {},
     "output_type": "display_data"
    }
   ],
   "source": [
    "loss = history.history['loss']\n",
    "val_loss = history.history['val_loss']\n",
    "\n",
    "plt.plot(loss,  label='Training Loss')\n",
    "plt.plot(val_loss, label='Validation Loss')\n",
    "plt.xlabel('Epochs')\n",
    "plt.ylabel('loss (MSE)')\n",
    "plt.legend()\n",
    "plt.show()"
   ]
  },
  {
   "cell_type": "markdown",
   "metadata": {},
   "source": [
    "#### MSE"
   ]
  },
  {
   "cell_type": "code",
   "execution_count": 196,
   "metadata": {},
   "outputs": [
    {
     "name": "stdout",
     "output_type": "stream",
     "text": [
      "Final Training MSE: 0.0002134950627805665\n"
     ]
    }
   ],
   "source": [
    "final_training_mse = loss[-1]\n",
    "final_validation_mse = val_loss[-1]\n",
    "\n",
    "print(f'Final Training MSE: {final_training_mse}')\n"
   ]
  },
  {
   "cell_type": "markdown",
   "metadata": {},
   "source": [
    "# Load Model, Testset"
   ]
  },
  {
   "cell_type": "markdown",
   "metadata": {},
   "source": [
    "완성한 모델, testset 저장해두기. *이후 `model_concat`에서 부를 예정*"
   ]
  },
  {
   "cell_type": "code",
   "execution_count": 200,
   "metadata": {},
   "outputs": [],
   "source": [
    "model.save(output_path+'model_cnn2d.h5')\n"
   ]
  },
  {
   "cell_type": "code",
   "execution_count": 198,
   "metadata": {},
   "outputs": [],
   "source": [
    "np.save(output_path+'testset_2d.npy', test_obs_norm)"
   ]
  }
 ],
 "metadata": {
  "kernelspec": {
   "display_name": "my_env",
   "language": "python",
   "name": "python3"
  },
  "language_info": {
   "codemirror_mode": {
    "name": "ipython",
    "version": 3
   },
   "file_extension": ".py",
   "mimetype": "text/x-python",
   "name": "python",
   "nbconvert_exporter": "python",
   "pygments_lexer": "ipython3",
   "version": "3.7.7"
  }
 },
 "nbformat": 4,
 "nbformat_minor": 2
}
